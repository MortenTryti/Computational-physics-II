{
 "cells": [
  {
   "cell_type": "code",
   "execution_count": 1,
   "metadata": {},
   "outputs": [],
   "source": [
    "# import all function from module.NaiveNN\n",
    "import numpy as np\n",
    "import matplotlib.pyplot as plt\n",
    "\n",
    "from module.NaiveNN import *"
   ]
  },
  {
   "cell_type": "markdown",
   "metadata": {},
   "source": [
    "# Optimization example\n",
    "Non iteractive case"
   ]
  },
  {
   "cell_type": "code",
   "execution_count": 2,
   "metadata": {},
   "outputs": [
    {
     "name": "stdout",
     "output_type": "stream",
     "text": [
      "params {W0: [[-0.7 -0.7]], W1: [[0.17640523]\n",
      " [0.04001572]], b1: [[0.0978738 ]\n",
      " [0.22408932]], W2: [[ 0.1867558  -0.09772779]], b2: [[0.09500884]], gamma: [[0.1]]}\n"
     ]
    },
    {
     "name": "stderr",
     "output_type": "stream",
     "text": [
      "/home/luigi/Documents/PHYSICS/CP/Project_2_group/FYS4411-Project2/NN/NonInteractiveNN/module/NaiveNN.py:230: NumbaPerformanceWarning: \u001b[1m\u001b[1mnp.dot() is faster on contiguous arrays, called on (Array(float64, 2, 'A', False, aligned=True), Array(float64, 1, 'C', False, aligned=True))\u001b[0m\u001b[0m\n",
      "  z0 = np.dot(W0, norm2)\n",
      "/home/luigi/Documents/PHYSICS/CP/Project_2_group/FYS4411-Project2/NN/NonInteractiveNN/module/NaiveNN.py:237: NumbaPerformanceWarning: \u001b[1m\u001b[1mnp.dot() is faster on contiguous arrays, called on (Array(float64, 2, 'A', False, aligned=True), Array(float64, 2, 'A', False, aligned=True))\u001b[0m\u001b[0m\n",
      "  z1 = np.dot(W1, relative_dist) + b1\n",
      "/home/luigi/Documents/PHYSICS/CP/Project_2_group/FYS4411-Project2/NN/NonInteractiveNN/module/NaiveNN.py:242: NumbaPerformanceWarning: \u001b[1m\u001b[1mnp.dot() is faster on contiguous arrays, called on (Array(float64, 2, 'A', False, aligned=True), Array(float64, 2, 'C', False, aligned=True))\u001b[0m\u001b[0m\n",
      "  z2 = np.dot(W2, a1) + b2\n"
     ]
    },
    {
     "name": "stdout",
     "output_type": "stream",
     "text": [
      "grad_params {W0: [[-0.02502984 -0.20265473]], W1: [[-0.00116635]\n",
      " [ 0.00063993]], b1: [[ 1.07918654e-04]\n",
      " [-1.70529122e-05]], W2: [[-0.0011776  -0.00025649]], b2: [[4.39664784e-05]], gamma: [[-0.00195117]]}\n",
      "params {W0: [[-0.69749702 -0.67973453]], W1: [[0.17652187]\n",
      " [0.03995173]], b1: [[0.09786301]\n",
      " [0.22409103]], W2: [[ 0.18687356 -0.09770214]], b2: [[0.09500445]], gamma: [[0.10019512]]}\n",
      "grad_params {W0: [[-0.39368521 -0.07458849]], W1: [[-0.00416065]\n",
      " [ 0.00262303]], b1: [[ 5.89740096e-04]\n",
      " [-7.67277240e-05]], W2: [[-0.00467343 -0.00106221]], b2: [[0.00019667]], gamma: [[-0.00739361]]}\n",
      "params {W0: [[-0.6581285  -0.67227568]], W1: [[0.17693793]\n",
      " [0.03968942]], b1: [[0.09780403]\n",
      " [0.2240987 ]], W2: [[ 0.1873409  -0.09759592]], b2: [[0.09498478]], gamma: [[0.10093448]]}\n",
      "grad_params {W0: [[-0.20315026 -0.09257146]], W1: [[-0.00279148]\n",
      " [ 0.00173186]], b1: [[ 3.81160465e-04]\n",
      " [-4.99687447e-05]], W2: [[-0.00310321 -0.00069615]], b2: [[0.00012974]], gamma: [[-0.00490445]]}\n",
      "params {W0: [[-0.63781347 -0.66301853]], W1: [[0.17721708]\n",
      " [0.03951624]], b1: [[0.09776592]\n",
      " [0.22410369]], W2: [[ 0.18765122 -0.0975263 ]], b2: [[0.0949718]], gamma: [[0.10142492]]}\n",
      "grad_params {W0: [[-0.05060111 -0.16256622]], W1: [[-0.00203462]\n",
      " [ 0.0012591 ]], b1: [[ 2.80286975e-04]\n",
      " [-3.62822342e-05]], W2: [[-0.00226129 -0.00050392]], b2: [[9.52110755e-05]], gamma: [[-0.00362965]]}\n",
      "params {W0: [[-0.63275336 -0.64676191]], W1: [[0.17742054]\n",
      " [0.03939033]], b1: [[0.09773789]\n",
      " [0.22410732]], W2: [[ 0.18787735 -0.09747591]], b2: [[0.09496228]], gamma: [[0.10178789]]}\n",
      "grad_params {W0: [[-0.10174887 -0.04425634]], W1: [[-0.00160577]\n",
      " [ 0.00094258]], b1: [[ 1.91003948e-04]\n",
      " [-2.62278213e-05]], W2: [[-0.00171564 -0.00037458]], b2: [[6.93978623e-05]], gamma: [[-0.00296234]]}\n",
      "params {W0: [[-0.62257847 -0.64233628]], W1: [[0.17758112]\n",
      " [0.03929607]], b1: [[0.09771879]\n",
      " [0.22410995]], W2: [[ 0.18804892 -0.09743845]], b2: [[0.09495534]], gamma: [[0.10208412]]}\n",
      "grad_params {W0: [[-0.10423405 -0.06186183]], W1: [[-0.00150698]\n",
      " [ 0.00084812]], b1: [[ 1.61356617e-04]\n",
      " [-2.30302796e-05]], W2: [[-0.00156164 -0.00033513]], b2: [[6.15793579e-05]], gamma: [[-0.00259717]]}\n",
      "params {W0: [[-0.61215507 -0.63615009]], W1: [[0.17773182]\n",
      " [0.03921126]], b1: [[0.09770265]\n",
      " [0.22411225]], W2: [[ 0.18820508 -0.09740494]], b2: [[0.09494918]], gamma: [[0.10234384]]}\n",
      "grad_params {W0: [[-0.04693497 -0.01148996]], W1: [[-0.00045537]\n",
      " [ 0.00024965]], b1: [[ 4.40767497e-05]\n",
      " [-6.62249102e-06]], W2: [[-4.62912315e-04 -9.82419136e-05]], b2: [[1.77496532e-05]], gamma: [[-0.00098952]]}\n",
      "params {W0: [[-0.60746157 -0.6350011 ]], W1: [[0.17777736]\n",
      " [0.03918629]], b1: [[0.09769824]\n",
      " [0.22411291]], W2: [[ 0.18825137 -0.09739512]], b2: [[0.09494741]], gamma: [[0.10244279]]}\n",
      "grad_params {W0: [[-0.06837932 -0.03340229]], W1: [[ 2.81099438e-05]\n",
      " [-1.02992641e-05]], b1: [[1.49429417e-06]\n",
      " [1.36490406e-07]], W2: [[2.12913836e-05 3.87995024e-06]], b2: [[-3.15855906e-07]], gamma: [[0.00015604]]}\n",
      "params {W0: [[-0.60062364 -0.63166087]], W1: [[0.17777455]\n",
      " [0.03918732]], b1: [[0.09769809]\n",
      " [0.2241129 ]], W2: [[ 0.18824924 -0.09739551]], b2: [[0.09494744]], gamma: [[0.10242719]]}\n",
      "grad_params {W0: [[-0.33106634 -0.18184476]], W1: [[-0.0013044 ]\n",
      " [ 0.00077017]], b1: [[ 1.60304562e-04]\n",
      " [-2.15046664e-05]], W2: [[-0.00140269 -0.00030472]], b2: [[5.75264804e-05]], gamma: [[-0.00190379]]}\n",
      "params {W0: [[-0.567517   -0.61347639]], W1: [[0.17790498]\n",
      " [0.03911031]], b1: [[0.09768206]\n",
      " [0.22411505]], W2: [[ 0.18838951 -0.09736503]], b2: [[0.09494169]], gamma: [[0.10261757]]}\n",
      "grad_params {W0: [[-0.02372172 -0.03745923]], W1: [[-0.00052519]\n",
      " [ 0.0003005 ]], b1: [[ 5.82752300e-05]\n",
      " [-8.19090282e-06]], W2: [[-0.00055173 -0.00011838]], b2: [[2.19858904e-05]], gamma: [[-0.0010318]]}\n"
     ]
    }
   ],
   "source": [
    "# define the N, D of the system\n",
    "N = 2\n",
    "D = 1\n",
    "\n",
    "# define numnber of hidden lyer\n",
    "H = 2\n",
    "\n",
    "params = init_params_guess(N, D, H,\n",
    "                           alpha=-0.7, epsilon=0.1, gamma=0.1)\n",
    "\n",
    "# optimize\n",
    "opt_params = optimization(nn,params, N, D, H, nn_grad_params,\n",
    "                          local_kinetic_energy, local_potential_energy, \n",
    "                          optimization_steps=10, batch_size=500, lr=0.1)"
   ]
  },
  {
   "cell_type": "code",
   "execution_count": 4,
   "metadata": {},
   "outputs": [
    {
     "data": {
      "text/plain": [
       "DictType[unicode_type,array(float64, 2d, A)]<iv=None>({W0: [[-0.56514483 -0.60973047]], W1: [[0.1779575 ]\n",
       " [0.03908026]], b1: [[0.09767624]\n",
       " [0.22411587]], W2: [[ 0.18844468 -0.09735319]], b2: [[0.09493949]], gamma: [[0.10272075]]})"
      ]
     },
     "execution_count": 4,
     "metadata": {},
     "output_type": "execute_result"
    }
   ],
   "source": [
    "opt_params"
   ]
  },
  {
   "cell_type": "code",
   "execution_count": 5,
   "metadata": {},
   "outputs": [
    {
     "name": "stdout",
     "output_type": "stream",
     "text": [
      "The mean energy is:  [[1.01679923]]\n",
      "The analytical energy is:  1.0\n"
     ]
    }
   ],
   "source": [
    "# get the mean energy with optimized params\n",
    "\n",
    "run_step = 10000\n",
    "chain = metropolis(N, D, nn, opt_params, run_step, 0.1)\n",
    "\n",
    "# get the energy\n",
    "energy=0\n",
    "for i in range(run_step):\n",
    "    energy += local_potential_energy(chain[i]) + local_kinetic_energy(chain[i], opt_params)\n",
    "energy /= run_step\n",
    "\n",
    "print(\"The mean energy is: \", energy)\n",
    "print(\"The analytical energy is: \", 0.5*N*D)"
   ]
  },
  {
   "cell_type": "code",
   "execution_count": null,
   "metadata": {},
   "outputs": [],
   "source": []
  }
 ],
 "metadata": {
  "kernelspec": {
   "display_name": "sci",
   "language": "python",
   "name": "python3"
  },
  "language_info": {
   "codemirror_mode": {
    "name": "ipython",
    "version": 3
   },
   "file_extension": ".py",
   "mimetype": "text/x-python",
   "name": "python",
   "nbconvert_exporter": "python",
   "pygments_lexer": "ipython3",
   "version": "3.10.9"
  }
 },
 "nbformat": 4,
 "nbformat_minor": 2
}
